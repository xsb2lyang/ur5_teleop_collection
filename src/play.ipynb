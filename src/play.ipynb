{
 "cells": [
  {
   "cell_type": "markdown",
   "id": "0986ab43",
   "metadata": {},
   "source": [
    "## 读取npy文件\n"
   ]
  },
  {
   "cell_type": "code",
   "execution_count": null,
   "id": "d8d7be51",
   "metadata": {},
   "outputs": [],
   "source": [
    "import numpy as np\n",
    "\n",
    "# 加载 .npy 文件\n",
    "data = np.load('robot_dataset/session_20250807_153113/robot_state.npy')\n",
    "\n",
    "# 显示数据内容\n",
    "print(data)\n",
    "\n",
    "# 如果需要查看数据的形状，可以使用 .shape\n",
    "print(\"Shape of the data:\", data.shape)\n"
   ]
  }
 ],
 "metadata": {
  "kernelspec": {
   "display_name": "ur5_xbox",
   "language": "python",
   "name": "python3"
  },
  "language_info": {
   "name": "python",
   "version": "3.10.18"
  }
 },
 "nbformat": 4,
 "nbformat_minor": 5
}
